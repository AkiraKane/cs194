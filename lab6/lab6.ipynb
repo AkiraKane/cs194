{
 "metadata": {
  "name": "",
  "signature": "sha256:1c9d402b7a6356cc5ad38455ae0e7f0fc3b2f93fc97230346bdfc96f173f2e6c"
 },
 "nbformat": 3,
 "nbformat_minor": 0,
 "worksheets": [
  {
   "cells": [
    {
     "cell_type": "heading",
     "level": 1,
     "metadata": {},
     "source": [
      "Lab 6: kNN and Naive Bayes"
     ]
    },
    {
     "cell_type": "markdown",
     "metadata": {},
     "source": [
      "**Before you Start** This lab involves some computing on modest datasets. You should set your VM to use at least 1.5 GB of RAM. If that's not possible, you'll have to shrink the datasets (reduce their number of columns) to be able to run it.\n",
      "\n",
      "Once you've checked memory size and restarted if needed, grab the lab from the icon at the top right. \n",
      "\n",
      "For this lab, we'll use a dataset of hand-written digit images called MNIST. You can download the dataset from <a href=\"https://bcourses.berkeley.edu/files/61682973/download?download_frd=1\">here</a>.  Put it in a lab6 directory, and do:\n",
      "<pre>\n",
      "tar xvzf MNIST.tar.gz\n",
      "</pre>\n",
      "which will produce an MNIST subdirectory with several files. The data comprises a train and test set, and train and test labels (ictrain and ictest). \n",
      "\n",
      "We'll be using numpy for this part of the lab so lets import it:"
     ]
    },
    {
     "cell_type": "code",
     "collapsed": false,
     "input": [
      "import numpy as np\n",
      "import matplotlib.pyplot as plt\n",
      "%matplotlib inline"
     ],
     "language": "python",
     "metadata": {},
     "outputs": []
    },
    {
     "cell_type": "markdown",
     "metadata": {},
     "source": [
      "We can read matrices in text format with numpy's loadtxt command. Text file input is slow, so this may take a few seconds."
     ]
    },
    {
     "cell_type": "code",
     "collapsed": false,
     "input": [
      "train0=np.loadtxt(\"MNIST/train.fmat.txt\")"
     ],
     "language": "python",
     "metadata": {},
     "outputs": []
    },
    {
     "cell_type": "markdown",
     "metadata": {},
     "source": [
      "Lets look at the shape of this matrix:"
     ]
    },
    {
     "cell_type": "code",
     "collapsed": false,
     "input": [
      "train0.shape"
     ],
     "language": "python",
     "metadata": {},
     "outputs": []
    },
    {
     "cell_type": "markdown",
     "metadata": {},
     "source": [
      "The columns of the matrix are 28 * 28 images. Since we had to read the data from a 2d array, the structure is different. Lets look at one of the images. We'll also convert it to a matrix, so that more mathematical operators are defined on it. If you have trouble running the lab, reduce the dataset size by decreasing the column bound from 4000 below. "
     ]
    },
    {
     "cell_type": "code",
     "collapsed": false,
     "input": [
      "train = np.asmatrix(train0[:,0:4000])"
     ],
     "language": "python",
     "metadata": {},
     "outputs": []
    },
    {
     "cell_type": "markdown",
     "metadata": {},
     "source": [
      "and we'll save the number of training examples for later:"
     ]
    },
    {
     "cell_type": "code",
     "collapsed": false,
     "input": [
      "ntrain = train.shape[1];ntrain"
     ],
     "language": "python",
     "metadata": {},
     "outputs": []
    },
    {
     "cell_type": "markdown",
     "metadata": {},
     "source": [
      "We can take any of the columns of the array, and reshape it to a 28 x 28 matrix:"
     ]
    },
    {
     "cell_type": "code",
     "collapsed": false,
     "input": [
      "img = train[:,0].reshape([28,28])"
     ],
     "language": "python",
     "metadata": {},
     "outputs": []
    },
    {
     "cell_type": "markdown",
     "metadata": {},
     "source": [
      "To look at the image, we can use Matplotlib's imshow function. We give it the image, plus a color map which maps the data values 0..255 to grayscale colors:"
     ]
    },
    {
     "cell_type": "code",
     "collapsed": false,
     "input": [
      "plt.imshow(img,cmap='gray')"
     ],
     "language": "python",
     "metadata": {},
     "outputs": []
    },
    {
     "cell_type": "markdown",
     "metadata": {},
     "source": [
      "Try some different images:"
     ]
    },
    {
     "cell_type": "code",
     "collapsed": false,
     "input": [
      "img2 = train[:,7].reshape([28,28])\n",
      "plt.imshow(img2,cmap='gray')"
     ],
     "language": "python",
     "metadata": {},
     "outputs": []
    },
    {
     "cell_type": "markdown",
     "metadata": {},
     "source": [
      "> TODO: Now create a 10x10 array of the first 100 images and show it below. Its probably easiest to make a 280 x 280 array, and fill it with the individual images. Be sure to scale your displayed image so that it is big enough to see individual images. i.e. so that it fills most of the browser window. "
     ]
    },
    {
     "cell_type": "code",
     "collapsed": false,
     "input": [],
     "language": "python",
     "metadata": {},
     "outputs": []
    },
    {
     "cell_type": "heading",
     "level": 2,
     "metadata": {},
     "source": [
      "Computing Test/Train Set Distances"
     ]
    },
    {
     "cell_type": "markdown",
     "metadata": {},
     "source": [
      "Next we need to compute the pairwise distances between our test and training set. Check the test set dims:"
     ]
    },
    {
     "cell_type": "code",
     "collapsed": false,
     "input": [
      "test0=np.loadtxt(\"MNIST/test.fmat.txt\")\n",
      "test=test0[:,0:2000]\n",
      "ntest=test.shape[1];ntest"
     ],
     "language": "python",
     "metadata": {},
     "outputs": []
    },
    {
     "cell_type": "markdown",
     "metadata": {},
     "source": [
      "The squared euclidean distance between two vector x and y is the squared length of their difference. We can write it as\n",
      "<pre>(x-y) dot (x-y)</pre>\n",
      "When working with matrices, we can also use a matrix formula, which is\n",
      "<pre>transpose(x-y) * (x-y)</pre>\n",
      "Well use the shorthand \".T\" for the transpose, and then we can write:\n",
      "<pre>(x-y) dot (x-y) = x dot x - 2 x.T * y + y dot y</pre>\n",
      "This formula works for x and y which are single columns. We chose this combination of dot and transpose product so we can generalize it to matrices of points.\n",
      "\n",
      "We would like to efficiently compute a ntest x ntrain matrix of all pairwise distances using this formula. The first term should be the x dot products, which we can compute like this:"
     ]
    },
    {
     "cell_type": "code",
     "collapsed": false,
     "input": [
      "xdots = np.sum(np.multiply(test,test),0).reshape(ntest,1) * np.ones((1,ntrain))"
     ],
     "language": "python",
     "metadata": {},
     "outputs": []
    },
    {
     "cell_type": "markdown",
     "metadata": {},
     "source": [
      "Note that we had to multiply by a row-vector of ones to reproduce the x-product for each y. The formula for y dot products is similar:"
     ]
    },
    {
     "cell_type": "code",
     "collapsed": false,
     "input": [
      "ydots = np.ones((ntest, 1)) * np.sum(np.multiply(train,train),0).reshape(1,ntrain) "
     ],
     "language": "python",
     "metadata": {},
     "outputs": []
    },
    {
     "cell_type": "markdown",
     "metadata": {},
     "source": [
      "Finally, we can complete the distance formula by adding the cross-terms:"
     ]
    },
    {
     "cell_type": "code",
     "collapsed": false,
     "input": [
      "dists = xdots + ydots - 2 * np.transpose(test) * train"
     ],
     "language": "python",
     "metadata": {},
     "outputs": []
    },
    {
     "cell_type": "markdown",
     "metadata": {},
     "source": [
      "The raw distances will be larger for larger input instances, which is not what we want. We can improve the distance estimate by normalizing by the lengths of test and train instances:"
     ]
    },
    {
     "cell_type": "markdown",
     "metadata": {},
     "source": [
      "> TODO: produce a normalized distance matrix ndists by dividing by the eucliden length of the test and train points. Hint: you already have the squared euclidean lengths of all the test and train points."
     ]
    },
    {
     "cell_type": "code",
     "collapsed": false,
     "input": [
      "ndists = "
     ],
     "language": "python",
     "metadata": {},
     "outputs": []
    },
    {
     "cell_type": "markdown",
     "metadata": {},
     "source": [
      "Now the i^th row of the distance matrix is the vector of distances from the i^th test point to the training points. To get the closest neighbors, we can sort this array along its rows (axis = 1). The argsort function returns the index of the closest points, which we can use to lookup their label. "
     ]
    },
    {
     "cell_type": "code",
     "collapsed": false,
     "input": [
      "ibest = np.argsort(ndists,axis=1); ibest"
     ],
     "language": "python",
     "metadata": {},
     "outputs": []
    },
    {
     "cell_type": "markdown",
     "metadata": {},
     "source": [
      "To look up the distances along a given row, we can use the ibest array to provide the column (training point) indices. "
     ]
    },
    {
     "cell_type": "code",
     "collapsed": false,
     "input": [
      "irow = 0\n",
      "ndists[irow,ibest[irow,:]]"
     ],
     "language": "python",
     "metadata": {},
     "outputs": []
    },
    {
     "cell_type": "markdown",
     "metadata": {},
     "source": [
      "And then to get their labels we should load the label data matrix:"
     ]
    },
    {
     "cell_type": "code",
     "collapsed": false,
     "input": [
      "labels = np.loadtxt(\"MNIST/ictrain.imat.txt\")"
     ],
     "language": "python",
     "metadata": {},
     "outputs": []
    },
    {
     "cell_type": "code",
     "collapsed": false,
     "input": [
      "labels[ibest[irow,:]]"
     ],
     "language": "python",
     "metadata": {},
     "outputs": []
    },
    {
     "cell_type": "markdown",
     "metadata": {},
     "source": [
      "> TODO: What label is the best match for test point 0? "
     ]
    },
    {
     "cell_type": "markdown",
     "metadata": {},
     "source": [
      "Now we'll restrict ourselves to the k-nearest neighbors. We currently have all the neighbors as columns of the dists and ibest matrices. Lets produce the labels of only the k-nearest, which is simply:"
     ]
    },
    {
     "cell_type": "code",
     "collapsed": false,
     "input": [
      "k = 3"
     ],
     "language": "python",
     "metadata": {},
     "outputs": []
    },
    {
     "cell_type": "code",
     "collapsed": false,
     "input": [
      "knlabels = labels[ibest]; knlabels"
     ],
     "language": "python",
     "metadata": {},
     "outputs": []
    },
    {
     "cell_type": "markdown",
     "metadata": {},
     "source": [
      "to get the k-nearest distances, we can sort the distances directly:"
     ]
    },
    {
     "cell_type": "code",
     "collapsed": false,
     "input": [
      "ndists[0,ibest[0,:]]"
     ],
     "language": "python",
     "metadata": {},
     "outputs": []
    },
    {
     "cell_type": "markdown",
     "metadata": {},
     "source": [
      "Now, lets find the majority vote for each label. First we need to count the votes in a matrix whose columns are the possible digits. You'll need to do this with loops, since Python lacks a general accumulate function."
     ]
    },
    {
     "cell_type": "code",
     "collapsed": false,
     "input": [
      "votes = np.zeros((ntest,10))"
     ],
     "language": "python",
     "metadata": {},
     "outputs": []
    },
    {
     "cell_type": "markdown",
     "metadata": {},
     "source": [
      "> TODO: write code to fill out the votes array with the predicted labels using the k nearest neighbors"
     ]
    },
    {
     "cell_type": "code",
     "collapsed": false,
     "input": [
      "        \n",
      "votes"
     ],
     "language": "python",
     "metadata": {},
     "outputs": []
    },
    {
     "cell_type": "markdown",
     "metadata": {},
     "source": [
      "Then we can find the position of the maximum of the votes, which will also be the digit label:"
     ]
    },
    {
     "cell_type": "code",
     "collapsed": false,
     "input": [
      "bestlabels = np.argmax(votes, axis=1); bestlabels"
     ],
     "language": "python",
     "metadata": {},
     "outputs": []
    },
    {
     "cell_type": "markdown",
     "metadata": {},
     "source": [
      "How well did we do? Lets load the test labels and see:"
     ]
    },
    {
     "cell_type": "code",
     "collapsed": false,
     "input": [
      "testlabels0 = np.loadtxt(\"MNIST/ictest.imat.txt\")\n",
      "testlabels = testlabels0[0:ntest]"
     ],
     "language": "python",
     "metadata": {},
     "outputs": []
    },
    {
     "cell_type": "markdown",
     "metadata": {},
     "source": [
      "We can directly compare the bestlabels (predicted) and the testlabels with == to compute matches. Matching labels will produce a 1 or 0 otherwise. To find the fraction of matches we simply take the mean of the 0-1 values. "
     ]
    },
    {
     "cell_type": "code",
     "collapsed": false,
     "input": [
      "accuracy = np.mean(bestlabels == testlabels); accuracy"
     ],
     "language": "python",
     "metadata": {},
     "outputs": []
    },
    {
     "cell_type": "markdown",
     "metadata": {},
     "source": [
      "Now lets try some other values of k. To speed things up, we'll skip the expensive sort steps, which we've already done anyway. "
     ]
    },
    {
     "cell_type": "code",
     "collapsed": false,
     "input": [
      "k = 3\n",
      "\n",
      "votes = np.zeros((ntest,10))\n",
      "\n",
      "# your code for vote counting here\n",
      "  \n",
      "bestlabels = np.argmax(votes, axis=1)\n",
      "\n",
      "np.mean(bestlabels == testlabels)"
     ],
     "language": "python",
     "metadata": {},
     "outputs": []
    },
    {
     "cell_type": "markdown",
     "metadata": {},
     "source": [
      "> TODO: What was the best value of k <= 10? What is the corresponding accuracy? "
     ]
    },
    {
     "cell_type": "code",
     "collapsed": false,
     "input": [],
     "language": "python",
     "metadata": {},
     "outputs": []
    },
    {
     "cell_type": "markdown",
     "metadata": {},
     "source": [
      "Now lets try weighting by inverse distance. Modify the last compute cell to use the inverse distance (you probably want to use the kndists matrix) as the vote. "
     ]
    },
    {
     "cell_type": "code",
     "collapsed": false,
     "input": [
      "k = 3\n",
      "\n",
      "votes = np.zeros((ntest,10))\n",
      "\n",
      "# your code for vote counting here\n",
      "        \n",
      "bestlabels = np.argmax(votes, axis=1)\n",
      "\n",
      "np.mean(bestlabels == testlabels)"
     ],
     "language": "python",
     "metadata": {},
     "outputs": []
    },
    {
     "cell_type": "markdown",
     "metadata": {},
     "source": [
      "> TODO: Now what is the next value of k <= 10? What is the corresponding accuracy? "
     ]
    },
    {
     "cell_type": "heading",
     "level": 1,
     "metadata": {},
     "source": [
      "Naive Bayes"
     ]
    },
    {
     "cell_type": "markdown",
     "metadata": {},
     "source": [
      "Read the documentation for Naive Bayes in Scikit-learn here http://scikit-learn.org/stable/modules/naive_bayes.html\n",
      "This section uses Scikit-learn, which is installed on your VM. Unfortunately, this module depends on nose tests, which arent installed. Go to a shell prompt and type:\n",
      "<pre>\n",
      "sudo pip install nose\n",
      "</pre>\n",
      "\n",
      "We want to classify our image data, and so we have to choose a feature distribution. Although the data for MNIST are real 0..255 brightness values, most values are either 0's or 255's so we'll threshold them to produce binary features. Then we can use the Bernoulli Naive Bayes classifier. \n",
      "\n",
      "We also need to transpose the data: Sckikit-learn expects data points to be rows rather than columns."
     ]
    },
    {
     "cell_type": "code",
     "collapsed": false,
     "input": [
      "btrain = np.transpose(train > 128)\n",
      "btest = np.transpose(test > 128)"
     ],
     "language": "python",
     "metadata": {},
     "outputs": []
    },
    {
     "cell_type": "markdown",
     "metadata": {},
     "source": [
      "Now import the BernoulliNB classifier:"
     ]
    },
    {
     "cell_type": "code",
     "collapsed": false,
     "input": [
      "from sklearn.naive_bayes import BernoulliNB\n",
      "nb = BernoulliNB()"
     ],
     "language": "python",
     "metadata": {},
     "outputs": []
    },
    {
     "cell_type": "markdown",
     "metadata": {},
     "source": [
      "Which creates a new Bernoulli Naive Bayes classifier. Now train the classifier on your binarized training data. "
     ]
    },
    {
     "cell_type": "code",
     "collapsed": false,
     "input": [
      "model = nb.fit(btrain, labels)"
     ],
     "language": "python",
     "metadata": {},
     "outputs": []
    },
    {
     "cell_type": "markdown",
     "metadata": {},
     "source": [
      "Use the model to predict the labels of the binarized test data:"
     ]
    },
    {
     "cell_type": "code",
     "collapsed": false,
     "input": [
      "nbpreds = model.predict(btest)"
     ],
     "language": "python",
     "metadata": {},
     "outputs": []
    },
    {
     "cell_type": "markdown",
     "metadata": {},
     "source": [
      "And evaluate the predictions compared to the actual labels"
     ]
    },
    {
     "cell_type": "code",
     "collapsed": false,
     "input": [
      "np.mean(nbpreds == testlabels)"
     ],
     "language": "python",
     "metadata": {},
     "outputs": []
    },
    {
     "cell_type": "markdown",
     "metadata": {},
     "source": [
      "> TODO: How did the accuracy of Naive Bayes compare with the kNN classifier on this data? "
     ]
    },
    {
     "cell_type": "markdown",
     "metadata": {},
     "source": [
      "> TODO: How well do you think this dataset fits the assumptions of the kNN and Naive Bayes models respectively?"
     ]
    },
    {
     "cell_type": "heading",
     "level": 1,
     "metadata": {},
     "source": [
      "Diagnosing Performance: Confusion Matrices"
     ]
    },
    {
     "cell_type": "markdown",
     "metadata": {},
     "source": [
      "Lets dig a bit deeper into the results from both classifiers. One useful tool is a confusion matrix: this is a matrix index by the true labels and predicted labels, and holds the normalized counts of values in each element. We can form the matrix as follows:\n",
      "\n",
      "We start with a matrix C such that C[i,j] is a count of the points with predicted label i and true label j. We then normalize C so that its columns add up to 1. Then the j^th column corresponds to true label j, and is a vector of the probabilities that a true label of j is classified as one of the other labels. "
     ]
    },
    {
     "cell_type": "code",
     "collapsed": false,
     "input": [
      "def confCount(a0, b0):\n",
      "    a = a0.astype('int64')\n",
      "    b = b0.astype('int64')\n",
      "    counts = np.zeros((10,10))\n",
      "    for i in range(0,a.size):\n",
      "        counts[b[i],a[i]] += 1\n",
      "    return counts           \n",
      "            "
     ],
     "language": "python",
     "metadata": {},
     "outputs": []
    },
    {
     "cell_type": "markdown",
     "metadata": {},
     "source": [
      "In the cell below, we compute the confusion matrix for the Naive Bayes classifier. "
     ]
    },
    {
     "cell_type": "code",
     "collapsed": false,
     "input": [
      "ccounts = confCount(testlabels, nbpreds)\n",
      "conf = ccounts / sum(ccounts).reshape(10,1)\n",
      "conf"
     ],
     "language": "python",
     "metadata": {},
     "outputs": []
    },
    {
     "cell_type": "markdown",
     "metadata": {},
     "source": [
      "> TODO: Now in the cell below create a grayscale visualization of the confusion matrix. i.e. a 10 x 10 image whose elements are in the range 0..255 and are 255 times the values of the confusion matrix. "
     ]
    },
    {
     "cell_type": "code",
     "collapsed": false,
     "input": [],
     "language": "python",
     "metadata": {},
     "outputs": []
    },
    {
     "cell_type": "markdown",
     "metadata": {},
     "source": [
      "> TODO: Using the vizualization or the matrix itself, answer these questions:\n",
      "\n",
      "> Q1: which digit is misclassified most often? How did you derive your answer from the confusion matrix?\n",
      "\n",
      "> Q2: How many mislabeled pairs are there (a pair of correct digit, incorrect label) which have probability > 0.05 ? "
     ]
    },
    {
     "cell_type": "heading",
     "level": 2,
     "metadata": {},
     "source": [
      "Lab Responses"
     ]
    },
    {
     "cell_type": "markdown",
     "metadata": {},
     "source": [
      "Enter your lab responses <a href=\"https://bcourses.berkeley.edu/courses/1377158/quizzes/2045075\">here</a>"
     ]
    }
   ],
   "metadata": {}
  }
 ]
}